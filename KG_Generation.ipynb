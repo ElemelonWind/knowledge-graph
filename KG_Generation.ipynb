{
  "nbformat": 4,
  "nbformat_minor": 0,
  "metadata": {
    "colab": {
      "name": "P6b.ipynb",
      "provenance": [],
      "authorship_tag": "ABX9TyOrjKVFm7SJAnxSRZLo6lVE",
      "include_colab_link": true
    },
    "kernelspec": {
      "name": "python3",
      "display_name": "Python 3"
    },
    "language_info": {
      "name": "python"
    }
  },
  "cells": [
    {
      "cell_type": "markdown",
      "metadata": {
        "id": "view-in-github",
        "colab_type": "text"
      },
      "source": [
        "<a href=\"https://colab.research.google.com/github/ElemelonWind/knowledge-graph/blob/main/KG_Generation.ipynb\" target=\"_parent\"><img src=\"https://colab.research.google.com/assets/colab-badge.svg\" alt=\"Open In Colab\"/></a>"
      ]
    },
    {
      "cell_type": "markdown",
      "source": [
        "# Part 1: Generating KG"
      ],
      "metadata": {
        "id": "hCkmARsir8_m"
      }
    },
    {
      "cell_type": "markdown",
      "source": [
        "## Import Dependencies + Datasets"
      ],
      "metadata": {
        "id": "R1AvzD-y27_r"
      }
    },
    {
      "cell_type": "code",
      "source": [
        "import re\n",
        "import pandas as pd\n",
        "import bs4\n",
        "import requests\n",
        "import spacy\n",
        "from spacy import displacy\n",
        "nlp = spacy.load('en_core_web_sm')\n",
        "\n",
        "from spacy.matcher import Matcher \n",
        "from spacy.tokens import Span \n",
        "\n",
        "import networkx as nx\n",
        "\n",
        "import matplotlib.pyplot as plt\n",
        "from tqdm import tqdm\n",
        "\n",
        "pd.set_option('display.max_colwidth', 200)\n",
        "%matplotlib inline"
      ],
      "metadata": {
        "id": "A39zpQo_3CEX"
      },
      "execution_count": 1,
      "outputs": []
    },
    {
      "cell_type": "code",
      "source": [
        "candidate_sentences = pd.read_csv('https://raw.githubusercontent.com/phgunawan/Latihan-ML/master/wiki_sentences_v2.csv')\n",
        "candidate_sentences.shape"
      ],
      "metadata": {
        "colab": {
          "base_uri": "https://localhost:8080/"
        },
        "id": "FQrxswi23Rg0",
        "outputId": "7efe7aba-cd48-4668-da60-ede6e34622a0"
      },
      "execution_count": 2,
      "outputs": [
        {
          "output_type": "execute_result",
          "data": {
            "text/plain": [
              "(4318, 1)"
            ]
          },
          "metadata": {},
          "execution_count": 2
        }
      ]
    },
    {
      "cell_type": "code",
      "source": [
        "candidate_sentences['sentence'].sample(5)\n"
      ],
      "metadata": {
        "colab": {
          "base_uri": "https://localhost:8080/"
        },
        "id": "kIZEqXgB4c4J",
        "outputId": "48372aaf-391b-4cd8-8515-934646b793cb"
      },
      "execution_count": 3,
      "outputs": [
        {
          "output_type": "execute_result",
          "data": {
            "text/plain": [
              "2827                            jagannadh meanwhile directed and produced 143 .\n",
              "4102            this film is also the only rugrats film to receive a pg rating.\n",
              "1470    at least forty-four major gujarati directors worked during this period.\n",
              "2801                   but that didn't materialize because of time constraints.\n",
              "2676                                 elliot goldenthal composed the soundtrack.\n",
              "Name: sentence, dtype: object"
            ]
          },
          "metadata": {},
          "execution_count": 3
        }
      ]
    },
    {
      "cell_type": "markdown",
      "source": [
        "## Sentence Segmentation & Extraction"
      ],
      "metadata": {
        "id": "_axSVlZm30KH"
      }
    },
    {
      "cell_type": "code",
      "source": [
        "doc = nlp(candidate_sentences[\"sentence\"][2])\n",
        "\n",
        "for tok in doc:\n",
        "  print(tok.text, \"...\", tok.dep_)"
      ],
      "metadata": {
        "colab": {
          "base_uri": "https://localhost:8080/"
        },
        "id": "SSTuFXOv3crc",
        "outputId": "1943d78f-3a5c-4fa7-a055-b3a38daf68da"
      },
      "execution_count": 4,
      "outputs": [
        {
          "output_type": "stream",
          "name": "stdout",
          "text": [
            "christian ... nsubjpass\n",
            "is ... auxpass\n",
            "then ... advmod\n",
            "paralyzed ... ROOT\n",
            "by ... agent\n",
            "an ... det\n",
            "elder ... pobj\n",
            ". ... punct\n"
          ]
        }
      ]
    },
    {
      "cell_type": "code",
      "source": [
        "def get_entities(sent):\n",
        "  ent1 = \"\"\n",
        "  ent2 = \"\"\n",
        "\n",
        "  prv_tok_dep = \"\"\n",
        "  prv_tok_text = \"\" \n",
        "\n",
        "  prefix = \"\"\n",
        "  modifier = \"\"\n",
        "\n",
        "  for tok in nlp(sent):\n",
        "    if tok.dep_ != \"punct\":\n",
        "      \n",
        "      # text associated with subject/object\n",
        "      if tok.dep_ == \"compound\":\n",
        "        prefix = tok.text\n",
        "        if prv_tok_dep == \"compound\":\n",
        "          prefix = prv_tok_text + \" \" + tok.text\n",
        "      if tok.dep_.endswith(\"mod\") == True:\n",
        "        modifier = tok.text\n",
        "        if prv_tok_dep == \"compound\":\n",
        "          modifier = prv_tok_text + \" \" + tok.text\n",
        "      \n",
        "      # subject = first entity\n",
        "      if tok.dep_.find(\"subj\") == True:\n",
        "        ent1 = modifier + \" \" + prefix + \" \" + tok.text\n",
        "        prefix = \"\"\n",
        "        modifier = \"\"\n",
        "        prv_tok_dep = \"\"\n",
        "        prv_tok_text = \"\"\n",
        "      # object = second entity\n",
        "      if tok.dep_.find(\"obj\") == True:\n",
        "        ent2 = modifier + \" \" + prefix + \" \" + tok.text\n",
        "\n",
        "      prv_tok_dep = tok.dep_\n",
        "      prv_tok_text = tok.text \n",
        "    \n",
        "  return [ent1.strip(), ent2.strip()]"
      ],
      "metadata": {
        "id": "IQCFTJxSmCLJ"
      },
      "execution_count": 5,
      "outputs": []
    },
    {
      "cell_type": "code",
      "source": [
        "get_entities(candidate_sentences[\"sentence\"][2])"
      ],
      "metadata": {
        "colab": {
          "base_uri": "https://localhost:8080/"
        },
        "id": "9b2YYTzSoBmI",
        "outputId": "8215f153-65f0-425b-afc5-8d4d17fe2b37"
      },
      "execution_count": 6,
      "outputs": [
        {
          "output_type": "execute_result",
          "data": {
            "text/plain": [
              "['christian', 'then  elder']"
            ]
          },
          "metadata": {},
          "execution_count": 6
        }
      ]
    },
    {
      "cell_type": "code",
      "source": [
        "entity_pairs = [] \n",
        "\n",
        "for i in tqdm(candidate_sentences[\"sentence\"]):\n",
        "  entity_pairs.append(get_entities(i))"
      ],
      "metadata": {
        "colab": {
          "base_uri": "https://localhost:8080/"
        },
        "id": "MdVT77glokJa",
        "outputId": "9d565610-9e63-4223-903b-b058675b6693"
      },
      "execution_count": 7,
      "outputs": [
        {
          "output_type": "stream",
          "name": "stderr",
          "text": [
            "100%|██████████| 4318/4318 [00:37<00:00, 114.37it/s]\n"
          ]
        }
      ]
    },
    {
      "cell_type": "code",
      "source": [
        "entity_pairs[10:20]"
      ],
      "metadata": {
        "colab": {
          "base_uri": "https://localhost:8080/"
        },
        "id": "-lFP9IDzrTO1",
        "outputId": "fa452028-cde8-416d-c40d-f13df3fe9d55"
      },
      "execution_count": 8,
      "outputs": [
        {
          "output_type": "execute_result",
          "data": {
            "text/plain": [
              "[['we', 'tests'],\n",
              " ['m', 'international sales rights'],\n",
              " ['musician robbie robertson', 'soundtrack'],\n",
              " ['it', 'original music tracks'],\n",
              " ['it', 'reviewed  franchise'],\n",
              " ['she', 'accidentally  mystique'],\n",
              " ['military  forces', 'arrest'],\n",
              " ['train', 'vuk'],\n",
              " ['kota eberhardt', 'telepath selene gallio'],\n",
              " ['singer', '-']]"
            ]
          },
          "metadata": {},
          "execution_count": 8
        }
      ]
    },
    {
      "cell_type": "code",
      "source": [
        "# spaCy's rule-based matching\n",
        "def get_relation(sent):\n",
        "  doc = nlp(sent)\n",
        "  matcher = Matcher(nlp.vocab)\n",
        "  pattern = [{'DEP': 'ROOT'},\n",
        "             {'DEP': 'prep', 'OP': '?'},\n",
        "             {'DEP': 'agent', 'OP': '?'},\n",
        "             {'POS': 'ADJ', 'OP': '?'}]\n",
        "\n",
        "  matcher.add(\"matching_1\", [pattern], on_match = None)\n",
        "  matches = matcher(doc)\n",
        "  k = len(matches) - 1\n",
        "  try:\n",
        "    span = doc[matches[k][1]:matches[k][2]]\n",
        "  except:\n",
        "    return \"n/a\"\n",
        "  return span.text"
      ],
      "metadata": {
        "id": "cIQxzexTrdtl"
      },
      "execution_count": 9,
      "outputs": []
    },
    {
      "cell_type": "code",
      "source": [
        "get_relation(candidate_sentences[\"sentence\"][2])"
      ],
      "metadata": {
        "colab": {
          "base_uri": "https://localhost:8080/",
          "height": 35
        },
        "id": "Jwfzv2lJsBa_",
        "outputId": "4efb8af6-95a1-40ce-d0d6-6fc1f137eae2"
      },
      "execution_count": 10,
      "outputs": [
        {
          "output_type": "execute_result",
          "data": {
            "text/plain": [
              "'paralyzed by'"
            ],
            "application/vnd.google.colaboratory.intrinsic+json": {
              "type": "string"
            }
          },
          "metadata": {},
          "execution_count": 10
        }
      ]
    },
    {
      "cell_type": "code",
      "source": [
        "relations = [get_relation(i) for i in tqdm(candidate_sentences['sentence'])]"
      ],
      "metadata": {
        "colab": {
          "base_uri": "https://localhost:8080/"
        },
        "id": "z_wGzHsb5AL3",
        "outputId": "187531ae-c9d0-46c1-b021-d11af39a7a70"
      },
      "execution_count": 11,
      "outputs": [
        {
          "output_type": "stream",
          "name": "stderr",
          "text": [
            "100%|██████████| 4318/4318 [00:42<00:00, 101.51it/s]\n"
          ]
        }
      ]
    },
    {
      "cell_type": "code",
      "source": [
        "pd.Series(relations).value_counts()[:50]"
      ],
      "metadata": {
        "colab": {
          "base_uri": "https://localhost:8080/"
        },
        "id": "eXmk0Bm39nlP",
        "outputId": "45ae6d44-3bb4-41e6-e6e5-67c2e1358c3a"
      },
      "execution_count": 12,
      "outputs": [
        {
          "output_type": "execute_result",
          "data": {
            "text/plain": [
              "is               365\n",
              "was              299\n",
              "released on       88\n",
              "are               78\n",
              "include           72\n",
              "were              68\n",
              "released          41\n",
              "composed by       33\n",
              "'s                32\n",
              "have              31\n",
              "became            30\n",
              "has               30\n",
              "become            28\n",
              "released in       27\n",
              "included          22\n",
              "produced          21\n",
              "been              20\n",
              "made              20\n",
              "had               19\n",
              "called            19\n",
              "considered        18\n",
              "used              18\n",
              "be                17\n",
              "received          15\n",
              "written by        15\n",
              "scheduled         15\n",
              "stars             14\n",
              "hired             14\n",
              "produced by       13\n",
              "directed by       13\n",
              "introduced in     13\n",
              "began             13\n",
              "went              13\n",
              "wanted            12\n",
              "wrote             11\n",
              "began in          11\n",
              "won               11\n",
              "set               10\n",
              "gave              10\n",
              "includes          10\n",
              "sold              10\n",
              "features           9\n",
              "cast as            9\n",
              "used in            9\n",
              "opened             9\n",
              "gives              9\n",
              "shot in            9\n",
              "produced in        9\n",
              "known as           9\n",
              "said               8\n",
              "dtype: int64"
            ]
          },
          "metadata": {},
          "execution_count": 12
        }
      ]
    },
    {
      "cell_type": "markdown",
      "source": [
        "## Build KG"
      ],
      "metadata": {
        "id": "RQksQxdc9v48"
      }
    }
  ]
}